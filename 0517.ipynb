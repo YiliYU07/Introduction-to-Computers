{
  "nbformat": 4,
  "nbformat_minor": 0,
  "metadata": {
    "colab": {
      "provenance": [],
      "authorship_tag": "ABX9TyOSQVXEItnorFz3BBB0m+m9",
      "include_colab_link": true
    },
    "kernelspec": {
      "name": "python3",
      "display_name": "Python 3"
    },
    "language_info": {
      "name": "python"
    }
  },
  "cells": [
    {
      "cell_type": "markdown",
      "metadata": {
        "id": "view-in-github",
        "colab_type": "text"
      },
      "source": [
        "<a href=\"https://colab.research.google.com/github/YiliYU07/Introduction-to-Computers/blob/main/0517.ipynb\" target=\"_parent\"><img src=\"https://colab.research.google.com/assets/colab-badge.svg\" alt=\"Open In Colab\"/></a>"
      ]
    },
    {
      "cell_type": "code",
      "execution_count": 1,
      "metadata": {
        "colab": {
          "base_uri": "https://localhost:8080/"
        },
        "id": "Q3MpIcbZbvlS",
        "outputId": "040aa360-5d99-4e94-a6c9-c24693c6f4b2"
      },
      "outputs": [
        {
          "output_type": "stream",
          "name": "stdout",
          "text": [
            "score: 70\n",
            "Grade is: C\n"
          ]
        }
      ],
      "source": [
        "score = int(input(\"score: \"))\n",
        "if score >= 90:\n",
        "    print('Grade is: A')\n",
        "elif score >= 80:\n",
        "    print('Grade is: B')\n",
        "elif score >= 70:\n",
        "    print('Grade is: C')\n",
        "elif score >= 60:\n",
        "    print('Grade is: D')\n",
        "else:\n",
        "    print('Grade is: F')\n"
      ]
    },
    {
      "cell_type": "code",
      "source": [
        "rain = str(input(\"今天出門會下雨嗎？\"))\n",
        "if(rain==\"Y\" or rain==\"y\"):\n",
        "  print(\"出門記得帶傘！\")\n",
        "elif(rain==\"N\" or rain==\"n\"):\n",
        "  print(\"不用帶傘\")\n",
        "else:\n",
        "  print(\"請重新輸入\")"
      ],
      "metadata": {
        "colab": {
          "base_uri": "https://localhost:8080/"
        },
        "id": "1FqZhdI5cmB9",
        "outputId": "fcd12f96-9425-405a-b67d-6daac1dc0453"
      },
      "execution_count": 4,
      "outputs": [
        {
          "output_type": "stream",
          "name": "stdout",
          "text": [
            "今天出門會下雨嗎？n\n",
            "不用帶傘\n"
          ]
        }
      ]
    },
    {
      "cell_type": "code",
      "source": [
        "temperature = float(input(\"請輸入體溫\"))\n",
        "if  temperature >= 37.5:\n",
        "  print(\"體溫過高！\")\n",
        "elif 37<= temperature <=37.4:\n",
        "  print(\"體溫略高！\")\n",
        "elif 34<= temperature <=36.9:\n",
        "  print(\"體溫正常！\")\n",
        "else:\n",
        "   print(\"體溫異常，請重新測量！\")"
      ],
      "metadata": {
        "colab": {
          "base_uri": "https://localhost:8080/"
        },
        "id": "gS16C1Dx1yWc",
        "outputId": "6ae8fb17-5e78-4ad2-9e12-f20ae4a92823"
      },
      "execution_count": 2,
      "outputs": [
        {
          "output_type": "stream",
          "name": "stdout",
          "text": [
            "請輸入體溫36\n",
            "體溫正常！\n"
          ]
        }
      ]
    },
    {
      "cell_type": "code",
      "source": [
        "score = int(input(\"請輸入成績\"))\n",
        "if score >=90:\n",
        "  print('A')\n",
        "elif 80<= score<= 89:\n",
        "  print('B')\n",
        "elif 70<= score<= 79:\n",
        "  print('C')\n",
        "elif 60<= score<= 69:\n",
        "  print('D')\n",
        "else:\n",
        "  print('E')"
      ],
      "metadata": {
        "colab": {
          "base_uri": "https://localhost:8080/"
        },
        "id": "cnaENIMHlwfs",
        "outputId": "5ceba450-3c79-40dd-a181-6f587a040468"
      },
      "execution_count": 6,
      "outputs": [
        {
          "output_type": "stream",
          "name": "stdout",
          "text": [
            "請輸入成績60\n",
            "D\n"
          ]
        }
      ]
    },
    {
      "cell_type": "code",
      "source": [
        "month =int(input(\"請輸入月份\"))\n",
        "if month==3 or month==4 or month==5:\n",
        "  print(f\"{month}月是春天！\")\n",
        "elif month==6 or month==7 or month==8:\n",
        "  print(f\"{month}月是夏天！\")\n",
        "elif month==9 or month==10 or month==11:\n",
        "  print(f\"{month}月是秋天！\")\n",
        "elif month==12 or month==1 or month==2:\n",
        "  print(f\"{month}月是冬天！\")\n",
        "else:\n",
        "  print(\"月份不在範圍內範圍！\")"
      ],
      "metadata": {
        "colab": {
          "base_uri": "https://localhost:8080/"
        },
        "id": "iWtUjTcnpy4x",
        "outputId": "a1725c18-8192-45a8-d6b7-c39997e31d34"
      },
      "execution_count": 5,
      "outputs": [
        {
          "output_type": "stream",
          "name": "stdout",
          "text": [
            "請輸入月份13\n",
            "月份不在範圍內範圍！\n"
          ]
        }
      ]
    }
  ]
}